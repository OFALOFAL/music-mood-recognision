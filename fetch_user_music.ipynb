{
 "cells": [
  {
   "cell_type": "code",
   "execution_count": 2,
   "metadata": {
    "collapsed": true,
    "ExecuteTime": {
     "start_time": "2023-09-07T08:17:24.703426Z",
     "end_time": "2023-09-07T08:17:24.778259Z"
    }
   },
   "outputs": [],
   "source": [
    "import json\n",
    "\n",
    "from dotenv import load_dotenv\n",
    "import os\n",
    "import base64\n",
    "from requests import post, get"
   ]
  },
  {
   "cell_type": "code",
   "execution_count": 3,
   "outputs": [],
   "source": [
    "load_dotenv()\n",
    "client_id = os.getenv('CLIENT_ID')\n",
    "client_secret = os.getenv('CLIENT_SECRET')"
   ],
   "metadata": {
    "collapsed": false,
    "ExecuteTime": {
     "start_time": "2023-09-07T08:17:25.017588Z",
     "end_time": "2023-09-07T08:17:25.030553Z"
    }
   }
  },
  {
   "cell_type": "code",
   "execution_count": 4,
   "outputs": [],
   "source": [
    " def get_token():\n",
    "\tauth_string = client_id + ':' + client_secret\n",
    "\tauth_bytes = auth_string.encode('utf-8')\n",
    "\tauth_base64 = str(base64.b64encode(auth_bytes), 'utf-8')\n",
    "\n",
    "\turl = 'https://accounts.spotify.com/api/token'\n",
    "\theaders = {\n",
    "\t\t'Authorization': 'Basic ' + auth_base64,\n",
    "\t\t'Content-Type': 'application/x-www-form-urlencoded'\n",
    "\t}\n",
    "\n",
    "\tdata = {'grant_type': 'client_credentials'}\n",
    "\n",
    "\tresult = post(url, headers=headers, data=data)\n",
    "\tjson_result = json.loads(result.content)\n",
    "\ttoken = json_result['access_token']\n",
    "\treturn token\n"
   ],
   "metadata": {
    "collapsed": false,
    "ExecuteTime": {
     "start_time": "2023-09-07T08:17:25.331923Z",
     "end_time": "2023-09-07T08:17:25.338905Z"
    }
   }
  },
  {
   "cell_type": "code",
   "execution_count": 5,
   "outputs": [
    {
     "data": {
      "text/plain": "'BQDQweYtRr_4uxIAWxRNYvdvJOgNnXKpJKsflJXgz50NOhbca0GMCztj3Xp7tl3lhvZ8zU8Jvevy2vY4K1Jblgo-pNPsqMV-CNXFFEIym0IXqxIntKY'"
     },
     "execution_count": 5,
     "metadata": {},
     "output_type": "execute_result"
    }
   ],
   "source": [
    "my_token = get_token()\n",
    "my_token"
   ],
   "metadata": {
    "collapsed": false,
    "ExecuteTime": {
     "start_time": "2023-09-07T08:17:25.866172Z",
     "end_time": "2023-09-07T08:17:26.073837Z"
    }
   }
  },
  {
   "cell_type": "code",
   "execution_count": 6,
   "outputs": [],
   "source": [
    "def get_auth_header(token):\n",
    "\treturn {'Authorization': 'Bearer ' + token}"
   ],
   "metadata": {
    "collapsed": false,
    "ExecuteTime": {
     "start_time": "2023-09-07T08:17:27.195589Z",
     "end_time": "2023-09-07T08:17:27.210549Z"
    }
   }
  },
  {
   "cell_type": "code",
   "execution_count": 16,
   "outputs": [],
   "source": [
    "def search_for_track(token, track_name):\n",
    "\turl = 'https://api.spotify.com/v1/search'\n",
    "\tquery = f'?q={track_name}&type=track&limit=1'\n",
    "\tquery_url = url+query\n",
    "\n",
    "\theaders = get_auth_header(token)\n",
    "\n",
    "\tresult = get(query_url, headers=headers)\n",
    "\tjson_result = json.loads(result.content)\n",
    "\treturn json_result"
   ],
   "metadata": {
    "collapsed": false,
    "ExecuteTime": {
     "start_time": "2023-09-07T08:25:32.311420Z",
     "end_time": "2023-09-07T08:25:32.315409Z"
    }
   }
  },
  {
   "cell_type": "code",
   "execution_count": 26,
   "outputs": [
    {
     "data": {
      "text/plain": "dict_keys(['href', 'items', 'limit', 'next', 'offset', 'previous', 'total'])"
     },
     "execution_count": 26,
     "metadata": {},
     "output_type": "execute_result"
    }
   ],
   "source": [
    "search_for_track(my_token, 'self care')['tracks'].keys()"
   ],
   "metadata": {
    "collapsed": false,
    "ExecuteTime": {
     "start_time": "2023-09-07T08:31:01.526324Z",
     "end_time": "2023-09-07T08:31:01.738958Z"
    }
   }
  },
  {
   "cell_type": "code",
   "execution_count": 39,
   "outputs": [
    {
     "data": {
      "text/plain": "{'tracks': {'href': 'https://api.spotify.com/v1/search?query=self+care&type=track&offset=0&limit=1',\n  'items': [{'album': {'album_type': 'album',\n     'artists': [{'external_urls': {'spotify': 'https://open.spotify.com/artist/4LLpKhyESsyAXpc4laK94U'},\n       'href': 'https://api.spotify.com/v1/artists/4LLpKhyESsyAXpc4laK94U',\n       'id': '4LLpKhyESsyAXpc4laK94U',\n       'name': 'Mac Miller',\n       'type': 'artist',\n       'uri': 'spotify:artist:4LLpKhyESsyAXpc4laK94U'}],\n     'available_markets': ['AR',\n      'AU',\n      'AT',\n      'BE',\n      'BO',\n      'BR',\n      'BG',\n      'CA',\n      'CL',\n      'CO',\n      'CR',\n      'CY',\n      'CZ',\n      'DK',\n      'DO',\n      'DE',\n      'EC',\n      'EE',\n      'SV',\n      'FI',\n      'FR',\n      'GR',\n      'GT',\n      'HN',\n      'HK',\n      'HU',\n      'IS',\n      'IE',\n      'IT',\n      'LV',\n      'LT',\n      'LU',\n      'MY',\n      'MT',\n      'MX',\n      'NL',\n      'NZ',\n      'NI',\n      'NO',\n      'PA',\n      'PY',\n      'PE',\n      'PH',\n      'PL',\n      'PT',\n      'SG',\n      'SK',\n      'ES',\n      'SE',\n      'CH',\n      'TW',\n      'TR',\n      'UY',\n      'US',\n      'GB',\n      'AD',\n      'LI',\n      'MC',\n      'ID',\n      'JP',\n      'TH',\n      'VN',\n      'RO',\n      'IL',\n      'ZA',\n      'SA',\n      'AE',\n      'BH',\n      'QA',\n      'OM',\n      'KW',\n      'EG',\n      'MA',\n      'DZ',\n      'TN',\n      'LB',\n      'JO',\n      'PS',\n      'IN',\n      'BY',\n      'KZ',\n      'MD',\n      'UA',\n      'AL',\n      'BA',\n      'HR',\n      'ME',\n      'MK',\n      'RS',\n      'SI',\n      'KR',\n      'BD',\n      'PK',\n      'LK',\n      'GH',\n      'KE',\n      'NG',\n      'TZ',\n      'UG',\n      'AG',\n      'AM',\n      'BS',\n      'BB',\n      'BZ',\n      'BT',\n      'BW',\n      'BF',\n      'CV',\n      'CW',\n      'DM',\n      'FJ',\n      'GM',\n      'GE',\n      'GD',\n      'GW',\n      'GY',\n      'HT',\n      'JM',\n      'KI',\n      'LS',\n      'LR',\n      'MW',\n      'MV',\n      'ML',\n      'MH',\n      'FM',\n      'NA',\n      'NR',\n      'NE',\n      'PW',\n      'PG',\n      'WS',\n      'SM',\n      'ST',\n      'SN',\n      'SC',\n      'SL',\n      'SB',\n      'KN',\n      'LC',\n      'VC',\n      'SR',\n      'TL',\n      'TO',\n      'TT',\n      'TV',\n      'VU',\n      'AZ',\n      'BN',\n      'BI',\n      'KH',\n      'CM',\n      'TD',\n      'KM',\n      'GQ',\n      'SZ',\n      'GA',\n      'GN',\n      'KG',\n      'LA',\n      'MO',\n      'MR',\n      'MN',\n      'NP',\n      'RW',\n      'TG',\n      'UZ',\n      'ZW',\n      'BJ',\n      'MG',\n      'MU',\n      'MZ',\n      'AO',\n      'CI',\n      'DJ',\n      'ZM',\n      'CD',\n      'CG',\n      'IQ',\n      'LY',\n      'TJ',\n      'VE',\n      'ET',\n      'XK'],\n     'external_urls': {'spotify': 'https://open.spotify.com/album/5wtE5aLX5r7jOosmPhJhhk'},\n     'href': 'https://api.spotify.com/v1/albums/5wtE5aLX5r7jOosmPhJhhk',\n     'id': '5wtE5aLX5r7jOosmPhJhhk',\n     'images': [{'height': 640,\n       'url': 'https://i.scdn.co/image/ab67616d0000b273175c577a61aa13d4fb4b6534',\n       'width': 640},\n      {'height': 300,\n       'url': 'https://i.scdn.co/image/ab67616d00001e02175c577a61aa13d4fb4b6534',\n       'width': 300},\n      {'height': 64,\n       'url': 'https://i.scdn.co/image/ab67616d00004851175c577a61aa13d4fb4b6534',\n       'width': 64}],\n     'name': 'Swimming',\n     'release_date': '2018-08-03',\n     'release_date_precision': 'day',\n     'total_tracks': 13,\n     'type': 'album',\n     'uri': 'spotify:album:5wtE5aLX5r7jOosmPhJhhk'},\n    'artists': [{'external_urls': {'spotify': 'https://open.spotify.com/artist/4LLpKhyESsyAXpc4laK94U'},\n      'href': 'https://api.spotify.com/v1/artists/4LLpKhyESsyAXpc4laK94U',\n      'id': '4LLpKhyESsyAXpc4laK94U',\n      'name': 'Mac Miller',\n      'type': 'artist',\n      'uri': 'spotify:artist:4LLpKhyESsyAXpc4laK94U'}],\n    'available_markets': ['AR',\n     'AU',\n     'AT',\n     'BE',\n     'BO',\n     'BR',\n     'BG',\n     'CA',\n     'CL',\n     'CO',\n     'CR',\n     'CY',\n     'CZ',\n     'DK',\n     'DO',\n     'DE',\n     'EC',\n     'EE',\n     'SV',\n     'FI',\n     'FR',\n     'GR',\n     'GT',\n     'HN',\n     'HK',\n     'HU',\n     'IS',\n     'IE',\n     'IT',\n     'LV',\n     'LT',\n     'LU',\n     'MY',\n     'MT',\n     'MX',\n     'NL',\n     'NZ',\n     'NI',\n     'NO',\n     'PA',\n     'PY',\n     'PE',\n     'PH',\n     'PL',\n     'PT',\n     'SG',\n     'SK',\n     'ES',\n     'SE',\n     'CH',\n     'TW',\n     'TR',\n     'UY',\n     'US',\n     'GB',\n     'AD',\n     'LI',\n     'MC',\n     'ID',\n     'JP',\n     'TH',\n     'VN',\n     'RO',\n     'IL',\n     'ZA',\n     'SA',\n     'AE',\n     'BH',\n     'QA',\n     'OM',\n     'KW',\n     'EG',\n     'MA',\n     'DZ',\n     'TN',\n     'LB',\n     'JO',\n     'PS',\n     'IN',\n     'BY',\n     'KZ',\n     'MD',\n     'UA',\n     'AL',\n     'BA',\n     'HR',\n     'ME',\n     'MK',\n     'RS',\n     'SI',\n     'KR',\n     'BD',\n     'PK',\n     'LK',\n     'GH',\n     'KE',\n     'NG',\n     'TZ',\n     'UG',\n     'AG',\n     'AM',\n     'BS',\n     'BB',\n     'BZ',\n     'BT',\n     'BW',\n     'BF',\n     'CV',\n     'CW',\n     'DM',\n     'FJ',\n     'GM',\n     'GE',\n     'GD',\n     'GW',\n     'GY',\n     'HT',\n     'JM',\n     'KI',\n     'LS',\n     'LR',\n     'MW',\n     'MV',\n     'ML',\n     'MH',\n     'FM',\n     'NA',\n     'NR',\n     'NE',\n     'PW',\n     'PG',\n     'WS',\n     'SM',\n     'ST',\n     'SN',\n     'SC',\n     'SL',\n     'SB',\n     'KN',\n     'LC',\n     'VC',\n     'SR',\n     'TL',\n     'TO',\n     'TT',\n     'TV',\n     'VU',\n     'AZ',\n     'BN',\n     'BI',\n     'KH',\n     'CM',\n     'TD',\n     'KM',\n     'GQ',\n     'SZ',\n     'GA',\n     'GN',\n     'KG',\n     'LA',\n     'MO',\n     'MR',\n     'MN',\n     'NP',\n     'RW',\n     'TG',\n     'UZ',\n     'ZW',\n     'BJ',\n     'MG',\n     'MU',\n     'MZ',\n     'AO',\n     'CI',\n     'DJ',\n     'ZM',\n     'CD',\n     'CG',\n     'IQ',\n     'LY',\n     'TJ',\n     'VE',\n     'ET',\n     'XK'],\n    'disc_number': 1,\n    'duration_ms': 345133,\n    'explicit': True,\n    'external_ids': {'isrc': 'USWB11801215'},\n    'external_urls': {'spotify': 'https://open.spotify.com/track/5bJ1DrEM4hNCafcDd1oxHx'},\n    'href': 'https://api.spotify.com/v1/tracks/5bJ1DrEM4hNCafcDd1oxHx',\n    'id': '5bJ1DrEM4hNCafcDd1oxHx',\n    'is_local': False,\n    'name': 'Self Care',\n    'popularity': 80,\n    'preview_url': 'https://p.scdn.co/mp3-preview/27213e78b82c3bb6ca91eb40cd6146e883827b2b?cid=7c55f94810f544c1b9327ecc360c59c1',\n    'track_number': 5,\n    'type': 'track',\n    'uri': 'spotify:track:5bJ1DrEM4hNCafcDd1oxHx'}],\n  'limit': 1,\n  'next': 'https://api.spotify.com/v1/search?query=self+care&type=track&offset=1&limit=1',\n  'offset': 0,\n  'previous': None,\n  'total': 831}}"
     },
     "execution_count": 39,
     "metadata": {},
     "output_type": "execute_result"
    }
   ],
   "source": [
    "search_for_track(my_token, 'self care')"
   ],
   "metadata": {
    "collapsed": false,
    "ExecuteTime": {
     "start_time": "2023-09-07T08:34:23.429700Z",
     "end_time": "2023-09-07T08:34:23.644047Z"
    }
   }
  },
  {
   "cell_type": "code",
   "execution_count": 40,
   "outputs": [],
   "source": [
    "def get_audio_futures(token, track_name):\n",
    "\ttrack_info = search_for_track(token, track_name)\n",
    "\ttrack_id = track_info['tracks']['items'][0]['id']\n",
    "\n",
    "\turl = 'https://api.spotify.com/v1/audio-features'\n",
    "\tquery = f'?ids={track_id}'\n",
    "\tquery_url = url+query\n",
    "\n",
    "\theaders = get_auth_header(token)\n",
    "\n",
    "\tresult = get(query_url, headers=headers)\n",
    "\tjson_result = json.loads(result.content)\n",
    "\treturn json_result"
   ],
   "metadata": {
    "collapsed": false,
    "ExecuteTime": {
     "start_time": "2023-09-07T08:34:41.676933Z",
     "end_time": "2023-09-07T08:34:41.679926Z"
    }
   }
  },
  {
   "cell_type": "code",
   "execution_count": 41,
   "outputs": [
    {
     "data": {
      "text/plain": "{'audio_features': [{'danceability': 0.52,\n   'energy': 0.538,\n   'key': 1,\n   'loudness': -8.109,\n   'mode': 1,\n   'speechiness': 0.206,\n   'acousticness': 0.367,\n   'instrumentalness': 0.00187,\n   'liveness': 0.119,\n   'valence': 0.177,\n   'tempo': 141.894,\n   'type': 'audio_features',\n   'id': '5bJ1DrEM4hNCafcDd1oxHx',\n   'uri': 'spotify:track:5bJ1DrEM4hNCafcDd1oxHx',\n   'track_href': 'https://api.spotify.com/v1/tracks/5bJ1DrEM4hNCafcDd1oxHx',\n   'analysis_url': 'https://api.spotify.com/v1/audio-analysis/5bJ1DrEM4hNCafcDd1oxHx',\n   'duration_ms': 345133,\n   'time_signature': 4}]}"
     },
     "execution_count": 41,
     "metadata": {},
     "output_type": "execute_result"
    }
   ],
   "source": [
    "get_audio_futures(my_token, 'self care')"
   ],
   "metadata": {
    "collapsed": false,
    "ExecuteTime": {
     "start_time": "2023-09-07T08:34:43.113643Z",
     "end_time": "2023-09-07T08:34:43.554065Z"
    }
   }
  },
  {
   "cell_type": "code",
   "execution_count": null,
   "outputs": [],
   "source": [],
   "metadata": {
    "collapsed": false
   }
  }
 ],
 "metadata": {
  "kernelspec": {
   "display_name": "Python 3",
   "language": "python",
   "name": "python3"
  },
  "language_info": {
   "codemirror_mode": {
    "name": "ipython",
    "version": 2
   },
   "file_extension": ".py",
   "mimetype": "text/x-python",
   "name": "python",
   "nbconvert_exporter": "python",
   "pygments_lexer": "ipython2",
   "version": "2.7.6"
  }
 },
 "nbformat": 4,
 "nbformat_minor": 0
}
