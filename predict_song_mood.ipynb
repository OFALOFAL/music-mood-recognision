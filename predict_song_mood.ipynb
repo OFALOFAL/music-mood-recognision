{
 "cells": [
  {
   "cell_type": "code",
   "execution_count": 12,
   "metadata": {
    "collapsed": true,
    "ExecuteTime": {
     "start_time": "2023-09-07T19:05:04.155216Z",
     "end_time": "2023-09-07T19:05:04.164192Z"
    },
    "id": "AekARVGPPqw3",
    "colab": {
     "base_uri": "https://localhost:8080/",
     "height": 383
    },
    "executionInfo": {
     "status": "error",
     "timestamp": 1694088942585,
     "user_tz": -120,
     "elapsed": 374,
     "user": {
      "displayName": "O F A L",
      "userId": "02735666739173035220"
     }
    },
    "outputId": "d4298175-ce5a-4e15-aaf1-ef9d211a9819"
   },
   "outputs": [],
   "source": [
    "import json\n",
    "\n",
    "from dotenv import load_dotenv\n",
    "import os\n",
    "import base64\n",
    "from requests import post, get\n",
    "import pandas as pd\n",
    "import numpy as np\n",
    "import tensorflow as tf\n"
   ]
  },
  {
   "cell_type": "code",
   "source": [
    "load_dotenv()\n",
    "client_id = os.getenv('CLIENT_ID')\n",
    "client_secret = os.getenv('CLIENT_SECRET')"
   ],
   "metadata": {
    "id": "HfLaITjui_gj",
    "ExecuteTime": {
     "start_time": "2023-09-07T19:05:04.160202Z",
     "end_time": "2023-09-07T19:05:04.190125Z"
    }
   },
   "execution_count": 13,
   "outputs": []
  },
  {
   "cell_type": "code",
   "source": [
    " def get_token():\n",
    "\tauth_string = client_id + ':' + client_secret\n",
    "\tauth_bytes = auth_string.encode('utf-8')\n",
    "\tauth_base64 = str(base64.b64encode(auth_bytes), 'utf-8')\n",
    "\n",
    "\turl = 'https://accounts.spotify.com/api/token'\n",
    "\theaders = {\n",
    "\t\t'Authorization': 'Basic ' + auth_base64,\n",
    "\t\t'Content-Type': 'application/x-www-form-urlencoded'\n",
    "\t}\n",
    "\n",
    "\tdata = {'grant_type': 'client_credentials'}\n",
    "\n",
    "\tresult = post(url, headers=headers, data=data)\n",
    "\tjson_result = json.loads(result.content)\n",
    "\ttoken = json_result['access_token']\n",
    "\treturn token"
   ],
   "metadata": {
    "id": "xq8hubZhi98U",
    "ExecuteTime": {
     "start_time": "2023-09-07T19:05:04.175164Z",
     "end_time": "2023-09-07T19:05:04.196107Z"
    }
   },
   "execution_count": 14,
   "outputs": []
  },
  {
   "cell_type": "code",
   "execution_count": 15,
   "outputs": [
    {
     "data": {
      "text/plain": "'BQB_eaDbf3d_vnWn5EyuRDxyUGdE8XStpf3AUyJgEmo7CiSstL9JtczyPj8Lb9csLiA9_PDxLnyhTRwEFjMFmpZHbLrIXS6GP4wt3L9HhVgmvMTdL2g'"
     },
     "execution_count": 15,
     "metadata": {},
     "output_type": "execute_result"
    }
   ],
   "source": [
    "my_token = get_token()\n",
    "my_token"
   ],
   "metadata": {
    "ExecuteTime": {
     "start_time": "2023-09-07T19:05:04.190125Z",
     "end_time": "2023-09-07T19:05:04.365891Z"
    },
    "id": "uW2PitxoPqw6",
    "outputId": "9c3aaf49-0540-498f-f5e6-32cd4488828a",
    "colab": {
     "base_uri": "https://localhost:8080/",
     "height": 35
    },
    "executionInfo": {
     "status": "ok",
     "timestamp": 1694088498159,
     "user_tz": -120,
     "elapsed": 4,
     "user": {
      "displayName": "O F A L",
      "userId": "02735666739173035220"
     }
    }
   }
  },
  {
   "cell_type": "code",
   "execution_count": 16,
   "outputs": [],
   "source": [
    "def get_auth_header(token):\n",
    "\treturn {'Authorization': 'Bearer ' + token}"
   ],
   "metadata": {
    "ExecuteTime": {
     "start_time": "2023-09-07T19:05:04.365891Z",
     "end_time": "2023-09-07T19:05:04.409779Z"
    },
    "id": "ubEBH3nCPqw7",
    "executionInfo": {
     "status": "ok",
     "timestamp": 1694088498160,
     "user_tz": -120,
     "elapsed": 3,
     "user": {
      "displayName": "O F A L",
      "userId": "02735666739173035220"
     }
    }
   }
  },
  {
   "cell_type": "code",
   "execution_count": 17,
   "outputs": [],
   "source": [
    "def search_for_track(token, track_name):\n",
    "\turl = 'https://api.spotify.com/v1/search'\n",
    "\tquery = f'?q={track_name}&type=track&limit=1'\n",
    "\tquery_url = url+query\n",
    "\n",
    "\theaders = get_auth_header(token)\n",
    "\n",
    "\tresult = get(query_url, headers=headers)\n",
    "\tjson_result = json.loads(result.content)\n",
    "\treturn json_result"
   ],
   "metadata": {
    "ExecuteTime": {
     "start_time": "2023-09-07T19:05:04.380857Z",
     "end_time": "2023-09-07T19:05:04.417757Z"
    },
    "id": "xzgdCds9Pqw7",
    "executionInfo": {
     "status": "ok",
     "timestamp": 1694088498160,
     "user_tz": -120,
     "elapsed": 3,
     "user": {
      "displayName": "O F A L",
      "userId": "02735666739173035220"
     }
    }
   }
  },
  {
   "cell_type": "code",
   "execution_count": 18,
   "outputs": [
    {
     "data": {
      "text/plain": "dict_keys(['href', 'items', 'limit', 'next', 'offset', 'previous', 'total'])"
     },
     "execution_count": 18,
     "metadata": {},
     "output_type": "execute_result"
    }
   ],
   "source": [
    "search_for_track(my_token, 'self care')['tracks'].keys()"
   ],
   "metadata": {
    "ExecuteTime": {
     "start_time": "2023-09-07T19:05:04.395817Z",
     "end_time": "2023-09-07T19:05:04.658614Z"
    },
    "id": "uMBlmBkZPqw7",
    "outputId": "a193485b-a80d-40c9-f461-6acf39bbcfa6",
    "colab": {
     "base_uri": "https://localhost:8080/",
     "height": 175
    },
    "executionInfo": {
     "status": "error",
     "timestamp": 1694088498393,
     "user_tz": -120,
     "elapsed": 236,
     "user": {
      "displayName": "O F A L",
      "userId": "02735666739173035220"
     }
    }
   }
  },
  {
   "cell_type": "code",
   "execution_count": 19,
   "outputs": [
    {
     "data": {
      "text/plain": "{'tracks': {'href': 'https://api.spotify.com/v1/search?query=self+care&type=track&offset=0&limit=1',\n  'items': [{'album': {'album_type': 'album',\n     'artists': [{'external_urls': {'spotify': 'https://open.spotify.com/artist/4LLpKhyESsyAXpc4laK94U'},\n       'href': 'https://api.spotify.com/v1/artists/4LLpKhyESsyAXpc4laK94U',\n       'id': '4LLpKhyESsyAXpc4laK94U',\n       'name': 'Mac Miller',\n       'type': 'artist',\n       'uri': 'spotify:artist:4LLpKhyESsyAXpc4laK94U'}],\n     'available_markets': ['AR',\n      'AU',\n      'AT',\n      'BE',\n      'BO',\n      'BR',\n      'BG',\n      'CA',\n      'CL',\n      'CO',\n      'CR',\n      'CY',\n      'CZ',\n      'DK',\n      'DO',\n      'DE',\n      'EC',\n      'EE',\n      'SV',\n      'FI',\n      'FR',\n      'GR',\n      'GT',\n      'HN',\n      'HK',\n      'HU',\n      'IS',\n      'IE',\n      'IT',\n      'LV',\n      'LT',\n      'LU',\n      'MY',\n      'MT',\n      'MX',\n      'NL',\n      'NZ',\n      'NI',\n      'NO',\n      'PA',\n      'PY',\n      'PE',\n      'PH',\n      'PL',\n      'PT',\n      'SG',\n      'SK',\n      'ES',\n      'SE',\n      'CH',\n      'TW',\n      'TR',\n      'UY',\n      'US',\n      'GB',\n      'AD',\n      'LI',\n      'MC',\n      'ID',\n      'JP',\n      'TH',\n      'VN',\n      'RO',\n      'IL',\n      'ZA',\n      'SA',\n      'AE',\n      'BH',\n      'QA',\n      'OM',\n      'KW',\n      'EG',\n      'MA',\n      'DZ',\n      'TN',\n      'LB',\n      'JO',\n      'PS',\n      'IN',\n      'BY',\n      'KZ',\n      'MD',\n      'UA',\n      'AL',\n      'BA',\n      'HR',\n      'ME',\n      'MK',\n      'RS',\n      'SI',\n      'KR',\n      'BD',\n      'PK',\n      'LK',\n      'GH',\n      'KE',\n      'NG',\n      'TZ',\n      'UG',\n      'AG',\n      'AM',\n      'BS',\n      'BB',\n      'BZ',\n      'BT',\n      'BW',\n      'BF',\n      'CV',\n      'CW',\n      'DM',\n      'FJ',\n      'GM',\n      'GE',\n      'GD',\n      'GW',\n      'GY',\n      'HT',\n      'JM',\n      'KI',\n      'LS',\n      'LR',\n      'MW',\n      'MV',\n      'ML',\n      'MH',\n      'FM',\n      'NA',\n      'NR',\n      'NE',\n      'PW',\n      'PG',\n      'WS',\n      'SM',\n      'ST',\n      'SN',\n      'SC',\n      'SL',\n      'SB',\n      'KN',\n      'LC',\n      'VC',\n      'SR',\n      'TL',\n      'TO',\n      'TT',\n      'TV',\n      'VU',\n      'AZ',\n      'BN',\n      'BI',\n      'KH',\n      'CM',\n      'TD',\n      'KM',\n      'GQ',\n      'SZ',\n      'GA',\n      'GN',\n      'KG',\n      'LA',\n      'MO',\n      'MR',\n      'MN',\n      'NP',\n      'RW',\n      'TG',\n      'UZ',\n      'ZW',\n      'BJ',\n      'MG',\n      'MU',\n      'MZ',\n      'AO',\n      'CI',\n      'DJ',\n      'ZM',\n      'CD',\n      'CG',\n      'IQ',\n      'LY',\n      'TJ',\n      'VE',\n      'ET',\n      'XK'],\n     'external_urls': {'spotify': 'https://open.spotify.com/album/5wtE5aLX5r7jOosmPhJhhk'},\n     'href': 'https://api.spotify.com/v1/albums/5wtE5aLX5r7jOosmPhJhhk',\n     'id': '5wtE5aLX5r7jOosmPhJhhk',\n     'images': [{'height': 640,\n       'url': 'https://i.scdn.co/image/ab67616d0000b273175c577a61aa13d4fb4b6534',\n       'width': 640},\n      {'height': 300,\n       'url': 'https://i.scdn.co/image/ab67616d00001e02175c577a61aa13d4fb4b6534',\n       'width': 300},\n      {'height': 64,\n       'url': 'https://i.scdn.co/image/ab67616d00004851175c577a61aa13d4fb4b6534',\n       'width': 64}],\n     'name': 'Swimming',\n     'release_date': '2018-08-03',\n     'release_date_precision': 'day',\n     'total_tracks': 13,\n     'type': 'album',\n     'uri': 'spotify:album:5wtE5aLX5r7jOosmPhJhhk'},\n    'artists': [{'external_urls': {'spotify': 'https://open.spotify.com/artist/4LLpKhyESsyAXpc4laK94U'},\n      'href': 'https://api.spotify.com/v1/artists/4LLpKhyESsyAXpc4laK94U',\n      'id': '4LLpKhyESsyAXpc4laK94U',\n      'name': 'Mac Miller',\n      'type': 'artist',\n      'uri': 'spotify:artist:4LLpKhyESsyAXpc4laK94U'}],\n    'available_markets': ['AR',\n     'AU',\n     'AT',\n     'BE',\n     'BO',\n     'BR',\n     'BG',\n     'CA',\n     'CL',\n     'CO',\n     'CR',\n     'CY',\n     'CZ',\n     'DK',\n     'DO',\n     'DE',\n     'EC',\n     'EE',\n     'SV',\n     'FI',\n     'FR',\n     'GR',\n     'GT',\n     'HN',\n     'HK',\n     'HU',\n     'IS',\n     'IE',\n     'IT',\n     'LV',\n     'LT',\n     'LU',\n     'MY',\n     'MT',\n     'MX',\n     'NL',\n     'NZ',\n     'NI',\n     'NO',\n     'PA',\n     'PY',\n     'PE',\n     'PH',\n     'PL',\n     'PT',\n     'SG',\n     'SK',\n     'ES',\n     'SE',\n     'CH',\n     'TW',\n     'TR',\n     'UY',\n     'US',\n     'GB',\n     'AD',\n     'LI',\n     'MC',\n     'ID',\n     'JP',\n     'TH',\n     'VN',\n     'RO',\n     'IL',\n     'ZA',\n     'SA',\n     'AE',\n     'BH',\n     'QA',\n     'OM',\n     'KW',\n     'EG',\n     'MA',\n     'DZ',\n     'TN',\n     'LB',\n     'JO',\n     'PS',\n     'IN',\n     'BY',\n     'KZ',\n     'MD',\n     'UA',\n     'AL',\n     'BA',\n     'HR',\n     'ME',\n     'MK',\n     'RS',\n     'SI',\n     'KR',\n     'BD',\n     'PK',\n     'LK',\n     'GH',\n     'KE',\n     'NG',\n     'TZ',\n     'UG',\n     'AG',\n     'AM',\n     'BS',\n     'BB',\n     'BZ',\n     'BT',\n     'BW',\n     'BF',\n     'CV',\n     'CW',\n     'DM',\n     'FJ',\n     'GM',\n     'GE',\n     'GD',\n     'GW',\n     'GY',\n     'HT',\n     'JM',\n     'KI',\n     'LS',\n     'LR',\n     'MW',\n     'MV',\n     'ML',\n     'MH',\n     'FM',\n     'NA',\n     'NR',\n     'NE',\n     'PW',\n     'PG',\n     'WS',\n     'SM',\n     'ST',\n     'SN',\n     'SC',\n     'SL',\n     'SB',\n     'KN',\n     'LC',\n     'VC',\n     'SR',\n     'TL',\n     'TO',\n     'TT',\n     'TV',\n     'VU',\n     'AZ',\n     'BN',\n     'BI',\n     'KH',\n     'CM',\n     'TD',\n     'KM',\n     'GQ',\n     'SZ',\n     'GA',\n     'GN',\n     'KG',\n     'LA',\n     'MO',\n     'MR',\n     'MN',\n     'NP',\n     'RW',\n     'TG',\n     'UZ',\n     'ZW',\n     'BJ',\n     'MG',\n     'MU',\n     'MZ',\n     'AO',\n     'CI',\n     'DJ',\n     'ZM',\n     'CD',\n     'CG',\n     'IQ',\n     'LY',\n     'TJ',\n     'VE',\n     'ET',\n     'XK'],\n    'disc_number': 1,\n    'duration_ms': 345133,\n    'explicit': True,\n    'external_ids': {'isrc': 'USWB11801215'},\n    'external_urls': {'spotify': 'https://open.spotify.com/track/5bJ1DrEM4hNCafcDd1oxHx'},\n    'href': 'https://api.spotify.com/v1/tracks/5bJ1DrEM4hNCafcDd1oxHx',\n    'id': '5bJ1DrEM4hNCafcDd1oxHx',\n    'is_local': False,\n    'name': 'Self Care',\n    'popularity': 80,\n    'preview_url': 'https://p.scdn.co/mp3-preview/27213e78b82c3bb6ca91eb40cd6146e883827b2b?cid=7c55f94810f544c1b9327ecc360c59c1',\n    'track_number': 5,\n    'type': 'track',\n    'uri': 'spotify:track:5bJ1DrEM4hNCafcDd1oxHx'}],\n  'limit': 1,\n  'next': 'https://api.spotify.com/v1/search?query=self+care&type=track&offset=1&limit=1',\n  'offset': 0,\n  'previous': None,\n  'total': 832}}"
     },
     "execution_count": 19,
     "metadata": {},
     "output_type": "execute_result"
    }
   ],
   "source": [
    "search_for_track(my_token, 'self care')"
   ],
   "metadata": {
    "ExecuteTime": {
     "start_time": "2023-09-07T19:05:04.660608Z",
     "end_time": "2023-09-07T19:05:04.862122Z"
    },
    "id": "_2DD-9VvPqw7",
    "outputId": "595fcb7c-2a06-4bd1-af32-8e945c2885dc",
    "colab": {
     "base_uri": "https://localhost:8080/"
    },
    "executionInfo": {
     "status": "ok",
     "timestamp": 1694088519104,
     "user_tz": -120,
     "elapsed": 239,
     "user": {
      "displayName": "O F A L",
      "userId": "02735666739173035220"
     }
    }
   }
  },
  {
   "cell_type": "code",
   "execution_count": 38,
   "outputs": [],
   "source": [
    "def get_audio_futures(token, track_name):\n",
    "\ttrack_info = search_for_track(token, track_name)\n",
    "\ttrack_id = track_info['tracks']['items'][0]['id']\n",
    "\n",
    "\turl = 'https://api.spotify.com/v1/audio-features'\n",
    "\tquery = f'?ids={track_id}'\n",
    "\tquery_url = url+query\n",
    "\n",
    "\theaders = get_auth_header(token)\n",
    "\n",
    "\tresult = get(query_url, headers=headers)\n",
    "\tjson_result = json.loads(result.content)\n",
    "\treturn json_result['audio_features'][0]"
   ],
   "metadata": {
    "ExecuteTime": {
     "start_time": "2023-09-07T19:08:18.042158Z",
     "end_time": "2023-09-07T19:08:18.054124Z"
    },
    "id": "x3plPvltPqw8",
    "executionInfo": {
     "status": "aborted",
     "timestamp": 1694088498394,
     "user_tz": -120,
     "elapsed": 4,
     "user": {
      "displayName": "O F A L",
      "userId": "02735666739173035220"
     }
    }
   }
  },
  {
   "cell_type": "code",
   "execution_count": 40,
   "outputs": [
    {
     "data": {
      "text/plain": "{'danceability': 0.52,\n 'energy': 0.538,\n 'key': 1,\n 'loudness': -8.109,\n 'mode': 1,\n 'speechiness': 0.206,\n 'acousticness': 0.367,\n 'instrumentalness': 0.00187,\n 'liveness': 0.119,\n 'valence': 0.177,\n 'tempo': 141.894,\n 'type': 'audio_features',\n 'id': '5bJ1DrEM4hNCafcDd1oxHx',\n 'uri': 'spotify:track:5bJ1DrEM4hNCafcDd1oxHx',\n 'track_href': 'https://api.spotify.com/v1/tracks/5bJ1DrEM4hNCafcDd1oxHx',\n 'analysis_url': 'https://api.spotify.com/v1/audio-analysis/5bJ1DrEM4hNCafcDd1oxHx',\n 'duration_ms': 345133,\n 'time_signature': 4}"
     },
     "execution_count": 40,
     "metadata": {},
     "output_type": "execute_result"
    }
   ],
   "source": [
    "get_audio_futures(my_token, 'self care')"
   ],
   "metadata": {
    "ExecuteTime": {
     "start_time": "2023-09-07T19:08:32.849414Z",
     "end_time": "2023-09-07T19:08:33.261233Z"
    },
    "id": "BBA3P2ZSPqw8",
    "executionInfo": {
     "status": "aborted",
     "timestamp": 1694088498394,
     "user_tz": -120,
     "elapsed": 4,
     "user": {
      "displayName": "O F A L",
      "userId": "02735666739173035220"
     }
    }
   }
  },
  {
   "cell_type": "code",
   "execution_count": 65,
   "outputs": [],
   "source": [
    "def predict_song_mood(token, track_name):\n",
    "\taudio_futures = get_audio_futures(token, track_name)\n",
    "\taudio_data = pd.DataFrame({\n",
    "\t\t'valence': audio_futures['valence'],\n",
    "\t\t'energy': audio_futures['energy'],\n",
    "\t\t'acousticness': audio_futures['acousticness']\n",
    "    }, index=[0])\n",
    "\n",
    "\tmood_names = [\n",
    "\t'Angry',\n",
    "\t'Bored',\n",
    "\t'Calm',\n",
    "\t'Content',\n",
    "\t'Delighted',\n",
    "\t'Depressed',\n",
    "\t'Excited',\n",
    "\t'Frustrated',\n",
    "\t'Happy',\n",
    "\t'Relaxed',\n",
    "\t'Tense',\n",
    "\t'Tired',\n",
    "\t]\n",
    "\n",
    "\tzeros = np.zeros(12)\n",
    "\tfillout = tf.data.Dataset.from_tensor_slices(zeros)\n",
    "\n",
    "\taudio_data = tf.data.Dataset.from_tensor_slices((\n",
    "\t  audio_data[['valence', 'energy']],\n",
    "\t  audio_data[['acousticness']]\n",
    "\t))\n",
    "\n",
    "\tsample_dataset = tf.data.Dataset.zip((audio_data, fillout)).batch(32).prefetch(tf.data.AUTOTUNE)\n",
    "\n",
    "\tmodel = tf.keras.models.load_model(\"model\")\n",
    "\n",
    "\tmodel_sample_pred_prob = model.predict(sample_dataset)\n",
    "\tmodel_sample_pred = np.argmax(model_sample_pred_prob, axis=1)\n",
    "\n",
    "\treturn mood_names[model_sample_pred[0]]"
   ],
   "metadata": {
    "id": "xmhSTL_KPqw8",
    "executionInfo": {
     "status": "aborted",
     "timestamp": 1694088498394,
     "user_tz": -120,
     "elapsed": 3,
     "user": {
      "displayName": "O F A L",
      "userId": "02735666739173035220"
     }
    },
    "ExecuteTime": {
     "start_time": "2023-09-07T19:17:08.787935Z",
     "end_time": "2023-09-07T19:17:08.807881Z"
    }
   }
  },
  {
   "cell_type": "markdown",
   "source": [
    "As we can see, the model gets it about right most of the time, but it does not see the text, so it doesn't understand the compleat song (just the music)"
   ],
   "metadata": {
    "collapsed": false
   }
  },
  {
   "cell_type": "code",
   "source": [
    "predict_song_mood(my_token, 'self care')"
   ],
   "metadata": {
    "id": "n2MnIo4jiYnc",
    "executionInfo": {
     "status": "aborted",
     "timestamp": 1694088498394,
     "user_tz": -120,
     "elapsed": 3,
     "user": {
      "displayName": "O F A L",
      "userId": "02735666739173035220"
     }
    },
    "ExecuteTime": {
     "start_time": "2023-09-07T19:54:04.045798Z",
     "end_time": "2023-09-07T19:54:04.697881Z"
    }
   },
   "execution_count": 82,
   "outputs": [
    {
     "name": "stdout",
     "output_type": "stream",
     "text": [
      "1/1 [==============================] - 0s 39ms/step\n"
     ]
    },
    {
     "data": {
      "text/plain": "'Frustrated'"
     },
     "execution_count": 82,
     "metadata": {},
     "output_type": "execute_result"
    }
   ]
  },
  {
   "cell_type": "code",
   "execution_count": 83,
   "outputs": [
    {
     "name": "stdout",
     "output_type": "stream",
     "text": [
      "1/1 [==============================] - 0s 38ms/step\n"
     ]
    },
    {
     "data": {
      "text/plain": "'Delighted'"
     },
     "execution_count": 83,
     "metadata": {},
     "output_type": "execute_result"
    }
   ],
   "source": [
    "predict_song_mood(my_token, 'Hey Ya!')"
   ],
   "metadata": {
    "collapsed": false,
    "ExecuteTime": {
     "start_time": "2023-09-07T19:54:04.698879Z",
     "end_time": "2023-09-07T19:54:05.685858Z"
    }
   }
  },
  {
   "cell_type": "code",
   "execution_count": 84,
   "outputs": [
    {
     "name": "stdout",
     "output_type": "stream",
     "text": [
      "1/1 [==============================] - 0s 39ms/step\n"
     ]
    },
    {
     "data": {
      "text/plain": "'Angry'"
     },
     "execution_count": 84,
     "metadata": {},
     "output_type": "execute_result"
    }
   ],
   "source": [
    "predict_song_mood(my_token, 'look at me')"
   ],
   "metadata": {
    "collapsed": false,
    "ExecuteTime": {
     "start_time": "2023-09-07T19:54:05.683863Z",
     "end_time": "2023-09-07T19:54:06.418950Z"
    }
   }
  },
  {
   "cell_type": "code",
   "execution_count": 85,
   "outputs": [
    {
     "name": "stdout",
     "output_type": "stream",
     "text": [
      "1/1 [==============================] - 0s 46ms/step\n"
     ]
    },
    {
     "data": {
      "text/plain": "'Angry'"
     },
     "execution_count": 85,
     "metadata": {},
     "output_type": "execute_result"
    }
   ],
   "source": [
    "predict_song_mood(my_token, 'fein!')"
   ],
   "metadata": {
    "collapsed": false,
    "ExecuteTime": {
     "start_time": "2023-09-07T19:54:06.417953Z",
     "end_time": "2023-09-07T19:54:07.114584Z"
    }
   }
  },
  {
   "cell_type": "code",
   "execution_count": 86,
   "outputs": [
    {
     "name": "stdout",
     "output_type": "stream",
     "text": [
      "1/1 [==============================] - 0s 39ms/step\n"
     ]
    },
    {
     "data": {
      "text/plain": "'Frustrated'"
     },
     "execution_count": 86,
     "metadata": {},
     "output_type": "execute_result"
    }
   ],
   "source": [
    "predict_song_mood(my_token, 'stop breathing')"
   ],
   "metadata": {
    "collapsed": false,
    "ExecuteTime": {
     "start_time": "2023-09-07T19:54:07.114584Z",
     "end_time": "2023-09-07T19:54:07.740652Z"
    }
   }
  },
  {
   "cell_type": "code",
   "execution_count": 87,
   "outputs": [
    {
     "name": "stdout",
     "output_type": "stream",
     "text": [
      "1/1 [==============================] - 0s 38ms/step\n"
     ]
    },
    {
     "data": {
      "text/plain": "'Depressed'"
     },
     "execution_count": 87,
     "metadata": {},
     "output_type": "execute_result"
    }
   ],
   "source": [
    "predict_song_mood(my_token, 'all mine')"
   ],
   "metadata": {
    "collapsed": false,
    "ExecuteTime": {
     "start_time": "2023-09-07T19:54:07.740652Z",
     "end_time": "2023-09-07T19:54:08.318325Z"
    }
   }
  }
 ],
 "metadata": {
  "kernelspec": {
   "display_name": "Python 3",
   "language": "python",
   "name": "python3"
  },
  "language_info": {
   "codemirror_mode": {
    "name": "ipython",
    "version": 2
   },
   "file_extension": ".py",
   "mimetype": "text/x-python",
   "name": "python",
   "nbconvert_exporter": "python",
   "pygments_lexer": "ipython2",
   "version": "2.7.6"
  },
  "colab": {
   "provenance": []
  }
 },
 "nbformat": 4,
 "nbformat_minor": 0
}
