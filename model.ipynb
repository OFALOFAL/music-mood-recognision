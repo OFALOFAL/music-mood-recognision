{
 "cells": [
  {
   "cell_type": "code",
   "source": [
    "import tensorflow as tf\n",
    "import pandas as pd\n",
    "import numpy as np\n",
    "from sklearn.preprocessing import OneHotEncoder, LabelEncoder\n",
    "import urllib.request"
   ],
   "metadata": {
    "id": "D9eMUM9sQXdz",
    "executionInfo": {
     "status": "ok",
     "timestamp": 1694087924027,
     "user_tz": -120,
     "elapsed": 3,
     "user": {
      "displayName": "O F A L",
      "userId": "02735666739173035220"
     }
    },
    "ExecuteTime": {
     "start_time": "2023-09-07T19:29:40.505315Z",
     "end_time": "2023-09-07T19:29:40.513293Z"
    }
   },
   "execution_count": 9,
   "outputs": []
  },
  {
   "cell_type": "code",
   "source": [
    "urllib.request.urlretrieve(\"https://raw.githubusercontent.com/OFALOFAL/tensorFlow_MyStudySheets/main/TfCommon.py\", \"TfCommon.py\")\n",
    "import TfCommon"
   ],
   "metadata": {
    "colab": {
     "base_uri": "https://localhost:8080/"
    },
    "id": "gZXQdmubZuta",
    "executionInfo": {
     "status": "ok",
     "timestamp": 1694087924400,
     "user_tz": -120,
     "elapsed": 375,
     "user": {
      "displayName": "O F A L",
      "userId": "02735666739173035220"
     }
    },
    "outputId": "5e135f18-264e-47f7-fe70-8e2b311f6306",
    "ExecuteTime": {
     "start_time": "2023-09-07T19:30:28.608903Z",
     "end_time": "2023-09-07T19:30:29.378595Z"
    }
   },
   "execution_count": 11,
   "outputs": []
  },
  {
   "cell_type": "code",
   "source": [
    "X_train_df = pd.read_csv(\"X_train.csv\")\n",
    "X_test_df = pd.read_csv(\"X_test.csv\")\n",
    "\n",
    "y_train_df = pd.read_csv(\"y_train.csv\")\n",
    "y_test_df = pd.read_csv(\"y_test.csv\")\n",
    "\n",
    "X_train_df.head()"
   ],
   "metadata": {
    "colab": {
     "base_uri": "https://localhost:8080/",
     "height": 206
    },
    "id": "yrMQWVdxQ2Ul",
    "executionInfo": {
     "status": "ok",
     "timestamp": 1694087924400,
     "user_tz": -120,
     "elapsed": 6,
     "user": {
      "displayName": "O F A L",
      "userId": "02735666739173035220"
     }
    },
    "outputId": "cbbb1b86-f1be-4b39-aada-d8c83702ed9b",
    "ExecuteTime": {
     "start_time": "2023-09-07T19:28:59.492572Z",
     "end_time": "2023-09-07T19:28:59.511522Z"
    }
   },
   "execution_count": 3,
   "outputs": [
    {
     "data": {
      "text/plain": "   Unnamed: 0  valence  energy  acousticness\n0        7093    0.646   0.557       0.04290\n1       10674    0.480   0.698       0.18000\n2       17861    0.446   0.209       0.76500\n3         599    0.963   0.729       0.00211\n4       16409    0.633   0.686       0.17300",
      "text/html": "<div>\n<style scoped>\n    .dataframe tbody tr th:only-of-type {\n        vertical-align: middle;\n    }\n\n    .dataframe tbody tr th {\n        vertical-align: top;\n    }\n\n    .dataframe thead th {\n        text-align: right;\n    }\n</style>\n<table border=\"1\" class=\"dataframe\">\n  <thead>\n    <tr style=\"text-align: right;\">\n      <th></th>\n      <th>Unnamed: 0</th>\n      <th>valence</th>\n      <th>energy</th>\n      <th>acousticness</th>\n    </tr>\n  </thead>\n  <tbody>\n    <tr>\n      <th>0</th>\n      <td>7093</td>\n      <td>0.646</td>\n      <td>0.557</td>\n      <td>0.04290</td>\n    </tr>\n    <tr>\n      <th>1</th>\n      <td>10674</td>\n      <td>0.480</td>\n      <td>0.698</td>\n      <td>0.18000</td>\n    </tr>\n    <tr>\n      <th>2</th>\n      <td>17861</td>\n      <td>0.446</td>\n      <td>0.209</td>\n      <td>0.76500</td>\n    </tr>\n    <tr>\n      <th>3</th>\n      <td>599</td>\n      <td>0.963</td>\n      <td>0.729</td>\n      <td>0.00211</td>\n    </tr>\n    <tr>\n      <th>4</th>\n      <td>16409</td>\n      <td>0.633</td>\n      <td>0.686</td>\n      <td>0.17300</td>\n    </tr>\n  </tbody>\n</table>\n</div>"
     },
     "execution_count": 3,
     "metadata": {},
     "output_type": "execute_result"
    }
   ]
  },
  {
   "cell_type": "code",
   "source": [
    "one_hot_encoder = OneHotEncoder(sparse_output=False)\n",
    "\n",
    "train_labels_one_hot = one_hot_encoder.fit_transform(np.array(y_train_df['mood']).reshape(-1, 1))\n",
    "test_labels_one_hot = one_hot_encoder.fit_transform(np.array(y_test_df['mood']).reshape(-1, 1))\n",
    "\n",
    "train_labels_one_hot[:5]"
   ],
   "metadata": {
    "colab": {
     "base_uri": "https://localhost:8080/"
    },
    "id": "a-8Mx00TQkoI",
    "executionInfo": {
     "status": "ok",
     "timestamp": 1694087924401,
     "user_tz": -120,
     "elapsed": 6,
     "user": {
      "displayName": "O F A L",
      "userId": "02735666739173035220"
     }
    },
    "outputId": "db6abae4-3060-44c8-d41a-db1e3717c40d",
    "ExecuteTime": {
     "start_time": "2023-09-07T19:28:59.981265Z",
     "end_time": "2023-09-07T19:28:59.997222Z"
    }
   },
   "execution_count": 4,
   "outputs": [
    {
     "data": {
      "text/plain": "array([[0., 0., 0., 0., 0., 0., 0., 0., 1., 0., 0., 0.],\n       [0., 0., 0., 0., 0., 0., 0., 0., 0., 0., 1., 0.],\n       [0., 0., 0., 0., 0., 0., 0., 0., 0., 0., 0., 1.],\n       [0., 0., 0., 0., 0., 0., 0., 0., 1., 0., 0., 0.],\n       [0., 0., 0., 0., 1., 0., 0., 0., 0., 0., 0., 0.]])"
     },
     "execution_count": 4,
     "metadata": {},
     "output_type": "execute_result"
    }
   ]
  },
  {
   "cell_type": "markdown",
   "source": [
    "We will process acousticness separately as it's less important variable"
   ],
   "metadata": {
    "id": "ZRoN0908Y3F2"
   }
  },
  {
   "cell_type": "code",
   "execution_count": 5,
   "metadata": {
    "collapsed": true,
    "colab": {
     "base_uri": "https://localhost:8080/"
    },
    "id": "wY0OMKIcPuAI",
    "executionInfo": {
     "status": "ok",
     "timestamp": 1694087924401,
     "user_tz": -120,
     "elapsed": 5,
     "user": {
      "displayName": "O F A L",
      "userId": "02735666739173035220"
     }
    },
    "outputId": "f4a85fd2-7e67-4314-b857-0251157d3bf2",
    "ExecuteTime": {
     "start_time": "2023-09-07T19:29:01.366683Z",
     "end_time": "2023-09-07T19:29:01.409736Z"
    }
   },
   "outputs": [
    {
     "data": {
      "text/plain": "<_PrefetchDataset element_spec=((TensorSpec(shape=(None, 2), dtype=tf.float64, name=None), TensorSpec(shape=(None, 1), dtype=tf.float64, name=None)), TensorSpec(shape=(None, 12), dtype=tf.float64, name=None))>"
     },
     "execution_count": 5,
     "metadata": {},
     "output_type": "execute_result"
    }
   ],
   "source": [
    "train_data = tf.data.Dataset.from_tensor_slices((\n",
    "  X_train_df[['valence', 'energy']],\n",
    "  X_train_df[['acousticness']]\n",
    "))\n",
    "\n",
    "train_labels = tf.data.Dataset.from_tensor_slices(train_labels_one_hot)\n",
    "\n",
    "train_dataset = tf.data.Dataset.zip((train_data, train_labels)).batch(32).prefetch(tf.data.AUTOTUNE)\n",
    "train_dataset"
   ]
  },
  {
   "cell_type": "code",
   "source": [
    "test_data = tf.data.Dataset.from_tensor_slices((\n",
    "  X_test_df[['valence', 'energy']],\n",
    "  X_test_df[['acousticness']]\n",
    "))\n",
    "\n",
    "test_labels = tf.data.Dataset.from_tensor_slices(test_labels_one_hot)\n",
    "\n",
    "test_dataset = tf.data.Dataset.zip((test_data, test_labels)).batch(32).prefetch(tf.data.AUTOTUNE)\n",
    "test_dataset"
   ],
   "metadata": {
    "colab": {
     "base_uri": "https://localhost:8080/"
    },
    "id": "C9VJ6kyrZWFP",
    "executionInfo": {
     "status": "ok",
     "timestamp": 1694087924401,
     "user_tz": -120,
     "elapsed": 4,
     "user": {
      "displayName": "O F A L",
      "userId": "02735666739173035220"
     }
    },
    "outputId": "abeb92c5-4311-424e-ef12-a453e0942b5d",
    "ExecuteTime": {
     "start_time": "2023-09-07T19:29:01.801800Z",
     "end_time": "2023-09-07T19:29:01.818755Z"
    }
   },
   "execution_count": 6,
   "outputs": [
    {
     "data": {
      "text/plain": "<_PrefetchDataset element_spec=((TensorSpec(shape=(None, 2), dtype=tf.float64, name=None), TensorSpec(shape=(None, 1), dtype=tf.float64, name=None)), TensorSpec(shape=(None, 12), dtype=tf.float64, name=None))>"
     },
     "execution_count": 6,
     "metadata": {},
     "output_type": "execute_result"
    }
   ]
  },
  {
   "cell_type": "code",
   "source": [
    "metrics = ['accuracy']\n",
    "\n",
    "valence_energy_input = tf.keras.layers.Input(shape=(2, ), dtype='float64', name='InputValence-Energy')\n",
    "valence_energy_output = tf.keras.layers.Dense(64, activation=\"relu\")(valence_energy_input)\n",
    "\n",
    "valence_energy_model = tf.keras.Model(\n",
    "    valence_energy_input,\n",
    "    valence_energy_output,\n",
    "    name='valence_energy'\n",
    ")\n",
    "\n",
    "# using dropout layer to make variable less important\n",
    "acousticness_input = tf.keras.layers.Input(shape=(1, ), dtype='float64', name='InputAcousticness')\n",
    "x = tf.keras.layers.Dense(32, activation=\"relu\")(acousticness_input)\n",
    "x = tf.keras.layers.Dropout(0.1)(x)\n",
    "acousticness_output = tf.keras.layers.Dense(32, activation=\"relu\")(x)\n",
    "\n",
    "acousticness_model = tf.keras.Model(\n",
    "    acousticness_input,\n",
    "    acousticness_output,\n",
    "    name='acousticness'\n",
    ")\n",
    "\n",
    "concat_layer = tf.keras.layers.Concatenate(name=\"concat_layer\")([\n",
    "    valence_energy_model.output,\n",
    "    acousticness_model.output\n",
    "])\n",
    "\n",
    "mood_count = 12\n",
    "output = tf.keras.layers.Dense(mood_count, activation=\"softmax\")(concat_layer)\n",
    "\n",
    "model = tf.keras.Model(\n",
    "    inputs=[\n",
    "        valence_energy_input,\n",
    "        acousticness_input\n",
    "    ],\n",
    "    outputs=output\n",
    ")\n",
    "\n",
    "model.compile(\n",
    "    loss=tf.keras.losses.CategoricalCrossentropy(label_smoothing=0.2),\n",
    "    optimizer=tf.keras.optimizers.Adam(),\n",
    "    metrics=metrics\n",
    ")\n",
    "\n",
    "tf.keras.utils.plot_model(model)"
   ],
   "metadata": {
    "colab": {
     "base_uri": "https://localhost:8080/",
     "height": 564
    },
    "id": "kG5jd1atZhdF",
    "executionInfo": {
     "status": "ok",
     "timestamp": 1694087924724,
     "user_tz": -120,
     "elapsed": 326,
     "user": {
      "displayName": "O F A L",
      "userId": "02735666739173035220"
     }
    },
    "outputId": "e79d0786-2da4-4b78-ad45-3e3397213169",
    "ExecuteTime": {
     "start_time": "2023-09-07T19:29:02.282384Z",
     "end_time": "2023-09-07T19:29:02.792942Z"
    }
   },
   "execution_count": 7,
   "outputs": [
    {
     "data": {
      "image/png": "[encoded data removed]",
      "text/plain": "<IPython.core.display.Image object>"
     },
     "execution_count": 7,
     "metadata": {},
     "output_type": "execute_result"
    }
   ]
  },
  {
   "cell_type": "code",
   "source": [
    "hist = model.fit(\n",
    "    train_dataset,\n",
    "    epochs=500,\n",
    "    verbose=0,\n",
    ")"
   ],
   "metadata": {
    "id": "dhhkJl4mb3QY",
    "executionInfo": {
     "status": "ok",
     "timestamp": 1694087998674,
     "user_tz": -120,
     "elapsed": 73953,
     "user": {
      "displayName": "O F A L",
      "userId": "02735666739173035220"
     }
    },
    "ExecuteTime": {
     "start_time": "2023-09-07T19:29:02.824857Z",
     "end_time": "2023-09-07T19:29:24.498808Z"
    }
   },
   "execution_count": 8,
   "outputs": []
  },
  {
   "cell_type": "code",
   "source": [
    "SCORE_TO_BEAT = 100/mood_count\n",
    "SCORE_TO_BEAT"
   ],
   "metadata": {
    "colab": {
     "base_uri": "https://localhost:8080/"
    },
    "id": "gpvjsfCAdkMX",
    "executionInfo": {
     "status": "ok",
     "timestamp": 1694087998674,
     "user_tz": -120,
     "elapsed": 9,
     "user": {
      "displayName": "O F A L",
      "userId": "02735666739173035220"
     }
    },
    "outputId": "732a14a6-c708-487b-fb6e-db14a0d60e90",
    "ExecuteTime": {
     "start_time": "2023-09-07T19:30:50.450725Z",
     "end_time": "2023-09-07T19:30:50.471448Z"
    }
   },
   "execution_count": 12,
   "outputs": [
    {
     "data": {
      "text/plain": "8.333333333333334"
     },
     "execution_count": 12,
     "metadata": {},
     "output_type": "execute_result"
    }
   ]
  },
  {
   "cell_type": "code",
   "source": [
    "TfCommon.plot_hist_curves([hist], metrics=metrics, val_data=False)"
   ],
   "metadata": {
    "colab": {
     "base_uri": "https://localhost:8080/",
     "height": 495
    },
    "id": "LF7W8wQqeFAC",
    "executionInfo": {
     "status": "ok",
     "timestamp": 1694087999146,
     "user_tz": -120,
     "elapsed": 479,
     "user": {
      "displayName": "O F A L",
      "userId": "02735666739173035220"
     }
    },
    "outputId": "61f08f52-8045-45b7-eab2-370bfab3a903",
    "ExecuteTime": {
     "start_time": "2023-09-07T19:30:51.035840Z",
     "end_time": "2023-09-07T19:30:51.289458Z"
    }
   },
   "execution_count": 13,
   "outputs": [
    {
     "data": {
      "text/plain": "<Figure size 500x200 with 1 Axes>",
      "image/png": "[encoded data removed]"
     },
     "metadata": {},
     "output_type": "display_data"
    },
    {
     "data": {
      "text/plain": "<Figure size 500x200 with 1 Axes>",
      "image/png": "[encoded data removed]"
     },
     "metadata": {},
     "output_type": "display_data"
    }
   ]
  },
  {
   "cell_type": "code",
   "source": [
    "model_pred_probs = model.predict(test_dataset)\n",
    "model_preds = tf.argmax(model_pred_probs, axis=1)"
   ],
   "metadata": {
    "colab": {
     "base_uri": "https://localhost:8080/"
    },
    "id": "4txf2QRTfodP",
    "executionInfo": {
     "status": "ok",
     "timestamp": 1694087999407,
     "user_tz": -120,
     "elapsed": 265,
     "user": {
      "displayName": "O F A L",
      "userId": "02735666739173035220"
     }
    },
    "outputId": "9c1a0782-97f7-44ca-f940-017d38b364ad",
    "ExecuteTime": {
     "start_time": "2023-09-07T19:30:51.430859Z",
     "end_time": "2023-09-07T19:30:51.554430Z"
    }
   },
   "execution_count": 14,
   "outputs": [
    {
     "name": "stdout",
     "output_type": "stream",
     "text": [
      "14/14 [==============================] - 0s 614us/step\n"
     ]
    }
   ]
  },
  {
   "cell_type": "code",
   "source": [
    "label_encoder = LabelEncoder()\n",
    "\n",
    "results = TfCommon.calculate_results(\n",
    "    y_true=label_encoder.fit_transform(y_test_df['mood']),\n",
    "    y_pred=model_preds\n",
    ")\n",
    "results"
   ],
   "metadata": {
    "colab": {
     "base_uri": "https://localhost:8080/"
    },
    "id": "DAAZkAggeJQx",
    "executionInfo": {
     "status": "ok",
     "timestamp": 1694087999407,
     "user_tz": -120,
     "elapsed": 3,
     "user": {
      "displayName": "O F A L",
      "userId": "02735666739173035220"
     }
    },
    "outputId": "a8894f3c-7737-43cc-cc36-1c86112daca2",
    "ExecuteTime": {
     "start_time": "2023-09-07T19:30:52.078051Z",
     "end_time": "2023-09-07T19:30:52.129912Z"
    }
   },
   "execution_count": 15,
   "outputs": [
    {
     "data": {
      "text/plain": "{'accuracy': 91.6267942583732,\n 'precision': 0.9221656408787443,\n 'recall': 0.916267942583732,\n 'f1': 0.9168461644763011}"
     },
     "execution_count": 15,
     "metadata": {},
     "output_type": "execute_result"
    }
   ]
  },
  {
   "cell_type": "code",
   "source": [
    "model.save('model')"
   ],
   "metadata": {
    "colab": {
     "base_uri": "https://localhost:8080/"
    },
    "id": "JFt9nnukgR8n",
    "executionInfo": {
     "status": "ok",
     "timestamp": 1694088000617,
     "user_tz": -120,
     "elapsed": 1212,
     "user": {
      "displayName": "O F A L",
      "userId": "02735666739173035220"
     }
    },
    "outputId": "a4190390-cd4e-4fed-938a-619e55d2cdcb",
    "ExecuteTime": {
     "start_time": "2023-09-07T19:31:36.746621Z",
     "end_time": "2023-09-07T19:31:37.235170Z"
    }
   },
   "execution_count": 17,
   "outputs": [
    {
     "name": "stderr",
     "output_type": "stream",
     "text": [
      "WARNING:absl:`InputValence-Energy` is not a valid tf.function parameter name. Sanitizing to `InputValence_Energy`.\n",
      "WARNING:absl:`InputValence-Energy` is not a valid tf.function parameter name. Sanitizing to `InputValence_Energy`.\n"
     ]
    },
    {
     "name": "stdout",
     "output_type": "stream",
     "text": [
      "INFO:tensorflow:Assets written to: model\\assets\n"
     ]
    },
    {
     "name": "stderr",
     "output_type": "stream",
     "text": [
      "INFO:tensorflow:Assets written to: model\\assets\n"
     ]
    }
   ]
  }
 ],
 "metadata": {
  "kernelspec": {
   "display_name": "Python 3",
   "language": "python",
   "name": "python3"
  },
  "language_info": {
   "codemirror_mode": {
    "name": "ipython",
    "version": 2
   },
   "file_extension": ".py",
   "mimetype": "text/x-python",
   "name": "python",
   "nbconvert_exporter": "python",
   "pygments_lexer": "ipython2",
   "version": "2.7.6"
  },
  "colab": {
   "provenance": []
  }
 },
 "nbformat": 4,
 "nbformat_minor": 0
}
